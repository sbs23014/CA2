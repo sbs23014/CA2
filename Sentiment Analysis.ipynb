{
 "cells": [
  {
   "cell_type": "code",
   "execution_count": null,
   "id": "ed966244",
   "metadata": {},
   "outputs": [],
   "source": [
    "import praw\n",
    "from vaderSentiment.vaderSentiment import SentimentIntensityAnalyzer\n",
    "\n",
    "# Reddit API credentials\n",
    "reddit_client_id = \"YOUR_CLIENT_ID\"\n",
    "reddit_client_secret = \"YOUR_CLIENT_SECRET\"\n",
    "reddit_user_agent = \"YOUR_USER_AGENT\"\n",
    "\n",
    "# Initialize Reddit API client\n",
    "reddit = praw.Reddit(\n",
    "    client_id=reddit_client_id,\n",
    "    client_secret=reddit_client_secret,\n",
    "    user_agent=reddit_user_agent\n",
    ")\n",
    "\n",
    "# Subreddit and search parameters\n",
    "subreddit_name = \"ireland\"\n",
    "search_query = \"construction industry\"\n",
    "\n",
    "# Initialize sentiment analyzer\n",
    "analyzer = SentimentIntensityAnalyzer()\n",
    "\n",
    "# Perform sentiment analysis on Reddit posts\n",
    "positive_sentiments = 0\n",
    "negative_sentiments = 0\n",
    "total_sentiments = 0\n",
    "\n",
    "subreddit = reddit.subreddit(subreddit_name)\n",
    "posts = subreddit.search(search_query)\n",
    "\n",
    "for post in posts:\n",
    "    title_sentiment = analyzer.polarity_scores(post.title)\n",
    "    body_sentiment = analyzer.polarity_scores(post.selftext)\n",
    "\n",
    "    post_sentiment = (title_sentiment[\"compound\"] + body_sentiment[\"compound\"]) / 2\n",
    "    total_sentiments += 1\n",
    "\n",
    "    if post_sentiment >= 0.05:\n",
    "        positive_sentiments += 1\n",
    "    elif post_sentiment <= -0.05:\n",
    "        negative_sentiments += 1\n",
    "\n",
    "# Calculate sentiment percentages\n",
    "positive_percentage = (positive_sentiments / total_sentiments) * 100\n",
    "negative_percentage = (negative_sentiments / total_sentiments) * 100\n",
    "\n",
    "# Output results\n",
    "print(f\"Total sentiments analyzed: {total_sentiments}\")\n",
    "print(f\"Positive sentiments: {positive_sentiments} ({positive_percentage:.2f}%)\")\n",
    "print(f\"Negative sentiments: {negative_sentiments} ({negative_percentage:.2f}%)\")"
   ]
  }
 ],
 "metadata": {
  "kernelspec": {
   "display_name": "Python 3 (ipykernel)",
   "language": "python",
   "name": "python3"
  },
  "language_info": {
   "codemirror_mode": {
    "name": "ipython",
    "version": 3
   },
   "file_extension": ".py",
   "mimetype": "text/x-python",
   "name": "python",
   "nbconvert_exporter": "python",
   "pygments_lexer": "ipython3",
   "version": "3.9.13"
  }
 },
 "nbformat": 4,
 "nbformat_minor": 5
}
