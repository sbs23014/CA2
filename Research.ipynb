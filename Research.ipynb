{
 "cells": [
  {
   "cell_type": "markdown",
   "id": "d71f8866",
   "metadata": {},
   "source": [
    "\n",
    "Read the file which is tab separated values\n",
    "https://stackoverflow.com/questions/39284925/how-to-use-split-for-importing-tab-delimited-text-from-a-large-gzip-file"
   ]
  },
  {
   "cell_type": "code",
   "execution_count": null,
   "id": "c9a7a45a",
   "metadata": {},
   "outputs": [],
   "source": [
    "import pandas as pd\n",
    "Construction_DF = pd.read_csv('sbs_sc_con_r2.tsv.gz', sep='\\t')\n",
    "    # process chunk DF\n"
   ]
  },
  {
   "cell_type": "code",
   "execution_count": null,
   "id": "ac943f45",
   "metadata": {},
   "outputs": [],
   "source": [
    "print(Construction_DF.head(10))"
   ]
  },
  {
   "cell_type": "code",
   "execution_count": 4,
   "id": "4439d3df",
   "metadata": {},
   "outputs": [],
   "source": [
    "import pandas as pd\n",
    "Construction_DF = pd.read_csv('sbs_sc_con_r2.tsv.gz', sep='\\t')\n",
    "    # process chunk DF\n",
    "\n",
    "header_row = pd.DataFrame(Construction_DF.columns)\n",
    "header_row_transposed = header_row.transpose()\n",
    "header_row_transposed.columns = Construction_DF.columns\n",
    "Construction_DF = pd.concat([header_row_transposed,Construction_DF])\n",
    "\n",
    "column_index = 0\n",
    "df = pd.DataFrame(Construction_DF)\n",
    "Construction_DF[['Column1_1', 'Column1_2', 'Column1_3', 'Column1_4']] = Construction_DF.iloc[:, column_index].str.split(',', expand=True)\n",
    "\n",
    "Construction_DF = Construction_DF.drop(Construction_DF.columns[0], axis=1)\n",
    "\n",
    "cols = Construction_DF.columns.tolist()[-4:] + Construction_DF.columns.tolist()[:-4]\n",
    "Construction_DF = Construction_DF[cols]\n",
    "\n",
    "\n",
    "# Rename the columns to the values in the first row of data\n",
    "Construction_DF.columns = Construction_DF.iloc[0]\n",
    "# Drop the first row (header row) from the DataFrame\n",
    "Construction_DF = Construction_DF.iloc[1:].reset_index(drop=True)\n",
    "\n",
    "\n",
    "Construction_DF.to_csv('output.csv', index=False)\n",
    "\n",
    "\n"
   ]
  },
  {
   "cell_type": "code",
   "execution_count": null,
   "id": "7a559212",
   "metadata": {},
   "outputs": [],
   "source": [
    "print(df)"
   ]
  },
  {
   "cell_type": "code",
   "execution_count": null,
   "id": "3d0b6980",
   "metadata": {},
   "outputs": [],
   "source": [
    "print(row_to_insert)"
   ]
  },
  {
   "cell_type": "code",
   "execution_count": null,
   "id": "2ab2a34c",
   "metadata": {},
   "outputs": [],
   "source": [
    "Construction_DF.to_csv('output.csv', index=False)"
   ]
  },
  {
   "cell_type": "code",
   "execution_count": null,
   "id": "d978be97",
   "metadata": {},
   "outputs": [],
   "source": [
    "print(Construction_DF.head(10))"
   ]
  },
  {
   "cell_type": "code",
   "execution_count": null,
   "id": "92c303d0",
   "metadata": {},
   "outputs": [],
   "source": [
    "column_index = 0  # Index of the column you want to parse\n",
    "Construction_DF.iloc[:, column_index] = Construction_DF.iloc[:, column_index].str.split(',', expand=True)\n"
   ]
  },
  {
   "cell_type": "code",
   "execution_count": null,
   "id": "39e46704",
   "metadata": {},
   "outputs": [],
   "source": []
  }
 ],
 "metadata": {
  "kernelspec": {
   "display_name": "Python 3 (ipykernel)",
   "language": "python",
   "name": "python3"
  },
  "language_info": {
   "codemirror_mode": {
    "name": "ipython",
    "version": 3
   },
   "file_extension": ".py",
   "mimetype": "text/x-python",
   "name": "python",
   "nbconvert_exporter": "python",
   "pygments_lexer": "ipython3",
   "version": "3.9.13"
  }
 },
 "nbformat": 4,
 "nbformat_minor": 5
}
